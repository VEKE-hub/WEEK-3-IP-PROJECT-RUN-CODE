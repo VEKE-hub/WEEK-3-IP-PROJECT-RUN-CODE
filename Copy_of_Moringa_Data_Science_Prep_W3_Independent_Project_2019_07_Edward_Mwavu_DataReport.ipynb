{
  "nbformat": 4,
  "nbformat_minor": 0,
  "metadata": {
    "colab": {
      "name": "Copy of Moringa_Data_Science_Prep_W3_Independent_Project_2019_07_Edward_Mwavu_DataReport.ipynb",
      "provenance": [],
      "authorship_tag": "ABX9TyPSaoIBmtMmDzYUGOO86FjF",
      "include_colab_link": true
    },
    "kernelspec": {
      "name": "python3",
      "display_name": "Python 3"
    },
    "language_info": {
      "name": "python"
    }
  },
  "cells": [
    {
      "cell_type": "markdown",
      "metadata": {
        "id": "view-in-github",
        "colab_type": "text"
      },
      "source": [
        "<a href=\"https://colab.research.google.com/github/VEKE-hub/WEEK-3-IP-PROJECT-RUN-CODE/blob/main/Copy_of_Moringa_Data_Science_Prep_W3_Independent_Project_2019_07_Edward_Mwavu_DataReport.ipynb\" target=\"_parent\"><img src=\"https://colab.research.google.com/assets/colab-badge.svg\" alt=\"Open In Colab\"/></a>"
      ]
    },
    {
      "cell_type": "markdown",
      "metadata": {
        "id": "jLn8VI8KX_yC"
      },
      "source": [
        "1.0 Preview\n",
        "\n",
        "The main idea of this report is to identify how MTN Cote d'Ivoire would go about the upgrade of its infrastructure strategy within the given cities where MTN Côte d’Ivoire operates. We have data for 3 days."
      ]
    },
    {
      "cell_type": "markdown",
      "metadata": {
        "id": "cxMlCStVYh90"
      },
      "source": [
        "2.0 Datasets\n",
        "\n",
        "Below are the datasets used for this project:\n",
        "\n",
        ".cells_geo_description.xlsx link\n",
        "\n",
        ".cells_geo.csv link\n",
        "\n",
        ".CDR_description.xlsx link\n",
        "\n",
        ".CDR 20120507 [http://bit.ly/TelecomDataset1]\n",
        "\n",
        ".CDR 20120508 [http://bit.ly/TelecomDataset2]\n",
        "\n",
        ".CDR 20120509 [http://bit.ly/TelecomDataset3]"
      ]
    },
    {
      "cell_type": "markdown",
      "metadata": {
        "id": "Uly9rcmdZarU"
      },
      "source": [
        "2.1 Importing the Libraries to be used"
      ]
    },
    {
      "cell_type": "code",
      "metadata": {
        "id": "tkCKetBjZdbV"
      },
      "source": [
        "# To import the pandas library, we use the below code:\n",
        "#\n",
        "import pandas as pd\n",
        "# as well as the Numpy library\n",
        "#\n",
        "import numpy as np\n"
      ],
      "execution_count": null,
      "outputs": []
    },
    {
      "cell_type": "markdown",
      "metadata": {
        "id": "kLhEybvFZi7_"
      },
      "source": [
        "2.2 Loading our Datasets"
      ]
    },
    {
      "cell_type": "code",
      "metadata": {
        "id": "4s4BGpGxZ9iK",
        "colab": {
          "base_uri": "https://localhost:8080/"
        },
        "outputId": "f997fcac-b904-448a-a73b-6e3930ab4b93"
      },
      "source": [
        "#We first load cells_geo_description.xlsx\n",
        "#url=https://drive.google.com/a/moringaschool.com/file/d/1-rIM5ihDu79RaH7rAs-d-7SQSAQhrY9N/\n",
        "#we download from the above url and upload it in colab\n",
        "\n",
        "df1=pd.read_excel('cells_geo_description.xlsx')\n",
        "print(df1)"
      ],
      "execution_count": null,
      "outputs": [
        {
          "output_type": "stream",
          "text": [
            "     Column name                                        Description  Format\n",
            "0         VILLES                                               City  String\n",
            "1         STATUS                                  In Service or not  String\n",
            "2   LOCALISATION                                  in ABIDJAN or not  String\n",
            "3     DECOUPZONE                                  Geographical Zone  String\n",
            "4       ZONENAME                                       Name of Zone  String\n",
            "5      LONGITUDE                                          Longitude   Float\n",
            "6       LATITUDE                                           Latitude   Float\n",
            "7         REGION                                             Region  String\n",
            "8           AREA                                               Area  String\n",
            "9        CELL_ID                                     ID of the cell  String\n",
            "10     SITE_CODE  Site (there are several cells per site, severa...  String\n"
          ],
          "name": "stdout"
        }
      ]
    },
    {
      "cell_type": "code",
      "metadata": {
        "id": "57K0v8XUaHNC",
        "colab": {
          "base_uri": "https://localhost:8080/",
          "height": 326
        },
        "outputId": "cc2ed4f4-1f1f-4a44-f93a-fb2c0fd8a8f2"
      },
      "source": [
        "# cells_geo.csv from the url https://drive.google.com/file/d/1ABZux280OjL3yWcOn8BDA_f5QsyO0QPU/\n",
        "# url='https://drive.google.com/file/d/1ABZux280OjL3yWcOn8BDA_f5QsyO0QPU/view'\n",
        "# we download the data and upload it in the notebook\n",
        "df2=pd.read_csv('cells_geo.csv', delimiter=';')\n",
        "df2.head(5)"
      ],
      "execution_count": null,
      "outputs": [
        {
          "output_type": "execute_result",
          "data": {
            "text/html": [
              "<div>\n",
              "<style scoped>\n",
              "    .dataframe tbody tr th:only-of-type {\n",
              "        vertical-align: middle;\n",
              "    }\n",
              "\n",
              "    .dataframe tbody tr th {\n",
              "        vertical-align: top;\n",
              "    }\n",
              "\n",
              "    .dataframe thead th {\n",
              "        text-align: right;\n",
              "    }\n",
              "</style>\n",
              "<table border=\"1\" class=\"dataframe\">\n",
              "  <thead>\n",
              "    <tr style=\"text-align: right;\">\n",
              "      <th></th>\n",
              "      <th>Unnamed: 0</th>\n",
              "      <th>VILLES</th>\n",
              "      <th>STATUS</th>\n",
              "      <th>LOCALISATION</th>\n",
              "      <th>DECOUPZONE</th>\n",
              "      <th>ZONENAME</th>\n",
              "      <th>LONGITUDE</th>\n",
              "      <th>LATITUDE</th>\n",
              "      <th>REGION</th>\n",
              "      <th>AREA</th>\n",
              "      <th>CELL_ID</th>\n",
              "      <th>SITE_CODE</th>\n",
              "    </tr>\n",
              "  </thead>\n",
              "  <tbody>\n",
              "    <tr>\n",
              "      <th>0</th>\n",
              "      <td>0</td>\n",
              "      <td>ADJAME</td>\n",
              "      <td>In Service</td>\n",
              "      <td>ABIDJAN</td>\n",
              "      <td>\"Abidjan_EST</td>\n",
              "      <td>AGBANNEW</td>\n",
              "      <td>-4.000667</td>\n",
              "      <td>5.368194</td>\n",
              "      <td>LAGUNE</td>\n",
              "      <td>NaN</td>\n",
              "      <td>fbb2e75af3</td>\n",
              "      <td>0bb492ef17</td>\n",
              "    </tr>\n",
              "    <tr>\n",
              "      <th>1</th>\n",
              "      <td>1</td>\n",
              "      <td>ADJAME</td>\n",
              "      <td>In Service</td>\n",
              "      <td>ABIDJAN</td>\n",
              "      <td>\"Abidjan_EST</td>\n",
              "      <td>AGBANNEW</td>\n",
              "      <td>-4.000667</td>\n",
              "      <td>5.368194</td>\n",
              "      <td>LAGUNE</td>\n",
              "      <td>NaN</td>\n",
              "      <td>1502501d78</td>\n",
              "      <td>0bb492ef17</td>\n",
              "    </tr>\n",
              "    <tr>\n",
              "      <th>2</th>\n",
              "      <td>2</td>\n",
              "      <td>ADJAME</td>\n",
              "      <td>In Service</td>\n",
              "      <td>ABIDJAN</td>\n",
              "      <td>\"Abidjan_EST</td>\n",
              "      <td>AGBANNEW</td>\n",
              "      <td>-4.000667</td>\n",
              "      <td>5.368194</td>\n",
              "      <td>LAGUNE</td>\n",
              "      <td>NaN</td>\n",
              "      <td>0c2e182a0c</td>\n",
              "      <td>0bb492ef17</td>\n",
              "    </tr>\n",
              "    <tr>\n",
              "      <th>3</th>\n",
              "      <td>3</td>\n",
              "      <td>ASSINIE</td>\n",
              "      <td>In Service</td>\n",
              "      <td>INTERIEUR</td>\n",
              "      <td>Grand-EST</td>\n",
              "      <td>ASSINIE\"</td>\n",
              "      <td>-3.488467</td>\n",
              "      <td>5.158761</td>\n",
              "      <td>SUD COMOE</td>\n",
              "      <td>NaN</td>\n",
              "      <td>69bdfc69fd</td>\n",
              "      <td>8a1e6ce31f</td>\n",
              "    </tr>\n",
              "    <tr>\n",
              "      <th>4</th>\n",
              "      <td>4</td>\n",
              "      <td>ASSINIE</td>\n",
              "      <td>In Service</td>\n",
              "      <td>INTERIEUR</td>\n",
              "      <td>Grand-EST</td>\n",
              "      <td>ASSINIE\"</td>\n",
              "      <td>-3.488467</td>\n",
              "      <td>5.158761</td>\n",
              "      <td>SUD COMOE</td>\n",
              "      <td>NaN</td>\n",
              "      <td>7a1029d2ab</td>\n",
              "      <td>8a1e6ce31f</td>\n",
              "    </tr>\n",
              "  </tbody>\n",
              "</table>\n",
              "</div>"
            ],
            "text/plain": [
              "   Unnamed: 0   VILLES      STATUS  ... AREA     CELL_ID   SITE_CODE\n",
              "0           0   ADJAME  In Service  ...  NaN  fbb2e75af3  0bb492ef17\n",
              "1           1   ADJAME  In Service  ...  NaN  1502501d78  0bb492ef17\n",
              "2           2   ADJAME  In Service  ...  NaN  0c2e182a0c  0bb492ef17\n",
              "3           3  ASSINIE  In Service  ...  NaN  69bdfc69fd  8a1e6ce31f\n",
              "4           4  ASSINIE  In Service  ...  NaN  7a1029d2ab  8a1e6ce31f\n",
              "\n",
              "[5 rows x 12 columns]"
            ]
          },
          "metadata": {
            "tags": []
          },
          "execution_count": 4
        }
      ]
    },
    {
      "cell_type": "code",
      "metadata": {
        "id": "VMEAQpBdaUK9",
        "colab": {
          "base_uri": "https://localhost:8080/",
          "height": 359
        },
        "outputId": "e5b8710d-69cf-4d95-ea9e-098a8f396bc9"
      },
      "source": [
        "# CDR_description data from the url https://drive.google.com/file/d/1cVoNXl25IO5-_yQk97ThdeqhE6yw8YTD/view\n",
        "# we download the data and upload it in the notebook\n",
        "\n",
        "df3 = pd.read_excel('CDR_description.xlsx')\n",
        "df3"
      ],
      "execution_count": null,
      "outputs": [
        {
          "output_type": "execute_result",
          "data": {
            "text/html": [
              "<div>\n",
              "<style scoped>\n",
              "    .dataframe tbody tr th:only-of-type {\n",
              "        vertical-align: middle;\n",
              "    }\n",
              "\n",
              "    .dataframe tbody tr th {\n",
              "        vertical-align: top;\n",
              "    }\n",
              "\n",
              "    .dataframe thead th {\n",
              "        text-align: right;\n",
              "    }\n",
              "</style>\n",
              "<table border=\"1\" class=\"dataframe\">\n",
              "  <thead>\n",
              "    <tr style=\"text-align: right;\">\n",
              "      <th></th>\n",
              "      <th>Column name</th>\n",
              "      <th>Description</th>\n",
              "      <th>Format</th>\n",
              "    </tr>\n",
              "  </thead>\n",
              "  <tbody>\n",
              "    <tr>\n",
              "      <th>0</th>\n",
              "      <td>PRODUCT</td>\n",
              "      <td>Voice or SMS</td>\n",
              "      <td>String</td>\n",
              "    </tr>\n",
              "    <tr>\n",
              "      <th>1</th>\n",
              "      <td>VALUE</td>\n",
              "      <td>Billing price</td>\n",
              "      <td>Integer</td>\n",
              "    </tr>\n",
              "    <tr>\n",
              "      <th>2</th>\n",
              "      <td>DATE_TIME</td>\n",
              "      <td>Time in format yyyy-MM-dd hh:mm:ss.0</td>\n",
              "      <td>String</td>\n",
              "    </tr>\n",
              "    <tr>\n",
              "      <th>3</th>\n",
              "      <td>CELL_ON_SITE</td>\n",
              "      <td>Which cell in the site was used (not needed here)</td>\n",
              "      <td>Integer</td>\n",
              "    </tr>\n",
              "    <tr>\n",
              "      <th>4</th>\n",
              "      <td>DW_A_NUMBER_INT</td>\n",
              "      <td>Anonymized phone number of the person for whic...</td>\n",
              "      <td>String</td>\n",
              "    </tr>\n",
              "    <tr>\n",
              "      <th>5</th>\n",
              "      <td>DW_B_NUMBER_INT</td>\n",
              "      <td>Anonymized phone number of the counterparty</td>\n",
              "      <td>String</td>\n",
              "    </tr>\n",
              "    <tr>\n",
              "      <th>6</th>\n",
              "      <td>COUNTRY_A</td>\n",
              "      <td>Country of party A (useless here)</td>\n",
              "      <td>String</td>\n",
              "    </tr>\n",
              "    <tr>\n",
              "      <th>7</th>\n",
              "      <td>COUNTRY_B</td>\n",
              "      <td>Country of party B (useless here)</td>\n",
              "      <td>String</td>\n",
              "    </tr>\n",
              "    <tr>\n",
              "      <th>8</th>\n",
              "      <td>CELL_ID</td>\n",
              "      <td>ID of the cell</td>\n",
              "      <td>String</td>\n",
              "    </tr>\n",
              "    <tr>\n",
              "      <th>9</th>\n",
              "      <td>SITE_ID</td>\n",
              "      <td>ID of the SITE</td>\n",
              "      <td>String</td>\n",
              "    </tr>\n",
              "  </tbody>\n",
              "</table>\n",
              "</div>"
            ],
            "text/plain": [
              "       Column name                                        Description   Format\n",
              "0          PRODUCT                                       Voice or SMS   String\n",
              "1            VALUE                                      Billing price  Integer\n",
              "2        DATE_TIME               Time in format yyyy-MM-dd hh:mm:ss.0   String\n",
              "3     CELL_ON_SITE  Which cell in the site was used (not needed here)  Integer\n",
              "4  DW_A_NUMBER_INT  Anonymized phone number of the person for whic...   String\n",
              "5  DW_B_NUMBER_INT        Anonymized phone number of the counterparty   String\n",
              "6        COUNTRY_A                  Country of party A (useless here)   String\n",
              "7        COUNTRY_B                  Country of party B (useless here)   String\n",
              "8          CELL_ID                                     ID of the cell   String\n",
              "9          SITE_ID                                     ID of the SITE   String"
            ]
          },
          "metadata": {
            "tags": []
          },
          "execution_count": 5
        }
      ]
    },
    {
      "cell_type": "code",
      "metadata": {
        "id": "PC54KyksabV3",
        "colab": {
          "base_uri": "https://localhost:8080/",
          "height": 394
        },
        "outputId": "ad4ed2fe-d563-4503-b862-ae4fccb8b38b"
      },
      "source": [
        "# CDR 20120507 [http://bit.ly/TelecomDataset1]\n",
        "# we download the data and upload it in the notebook\n",
        "#url='http://bit.ly/TelecomDataset1'\n",
        "df4=pd.read_csv('Telcom_dataset1.csv')\n",
        "df4.head(5)\n"
      ],
      "execution_count": null,
      "outputs": [
        {
          "output_type": "execute_result",
          "data": {
            "text/html": [
              "<div>\n",
              "<style scoped>\n",
              "    .dataframe tbody tr th:only-of-type {\n",
              "        vertical-align: middle;\n",
              "    }\n",
              "\n",
              "    .dataframe tbody tr th {\n",
              "        vertical-align: top;\n",
              "    }\n",
              "\n",
              "    .dataframe thead th {\n",
              "        text-align: right;\n",
              "    }\n",
              "</style>\n",
              "<table border=\"1\" class=\"dataframe\">\n",
              "  <thead>\n",
              "    <tr style=\"text-align: right;\">\n",
              "      <th></th>\n",
              "      <th>PRODUTC</th>\n",
              "      <th>VALUE</th>\n",
              "      <th>DATETIME</th>\n",
              "      <th>CELL_ON_SITE</th>\n",
              "      <th>DW_A_NUMBER_INT</th>\n",
              "      <th>DW_B_NUMBER_INT</th>\n",
              "      <th>COUNTRY_A</th>\n",
              "      <th>COUNTRY_B</th>\n",
              "      <th>CELL_ID</th>\n",
              "      <th>SITE_ID</th>\n",
              "    </tr>\n",
              "  </thead>\n",
              "  <tbody>\n",
              "    <tr>\n",
              "      <th>0</th>\n",
              "      <td>Voice</td>\n",
              "      <td>0</td>\n",
              "      <td>2012-05-06 23:04:37.0</td>\n",
              "      <td>1</td>\n",
              "      <td>49fae048b547780</td>\n",
              "      <td>1a49f8b0ded9de6</td>\n",
              "      <td>19e2e</td>\n",
              "      <td>19e2e</td>\n",
              "      <td>/TJNe+Mmtu</td>\n",
              "      <td>/TJNe+Mmtu</td>\n",
              "    </tr>\n",
              "    <tr>\n",
              "      <th>1</th>\n",
              "      <td>sms</td>\n",
              "      <td>0</td>\n",
              "      <td>2012-05-06 23:05:25.0</td>\n",
              "      <td>0</td>\n",
              "      <td>7a54a6eaee19e65</td>\n",
              "      <td>93343ba6e41af95</td>\n",
              "      <td>19e2e</td>\n",
              "      <td>19e2e</td>\n",
              "      <td>/+cKZKIp41</td>\n",
              "      <td>/+cKZKIp41</td>\n",
              "    </tr>\n",
              "    <tr>\n",
              "      <th>2</th>\n",
              "      <td>sms</td>\n",
              "      <td>25</td>\n",
              "      <td>2012-05-06 23:05:41.0</td>\n",
              "      <td>0</td>\n",
              "      <td>6008887b0207d82</td>\n",
              "      <td>7aacc9709ce0a20</td>\n",
              "      <td>19e2e</td>\n",
              "      <td>19e2e</td>\n",
              "      <td>/u0FSD+ahi</td>\n",
              "      <td>/u0FSD+ahi</td>\n",
              "    </tr>\n",
              "    <tr>\n",
              "      <th>3</th>\n",
              "      <td>Voice</td>\n",
              "      <td>56</td>\n",
              "      <td>2012-05-06 23:05:42.0</td>\n",
              "      <td>1</td>\n",
              "      <td>7370032e20f4e96</td>\n",
              "      <td>6af4a60e74c91d3</td>\n",
              "      <td>19e2e</td>\n",
              "      <td>19e2e</td>\n",
              "      <td>+cNeJzsTp3</td>\n",
              "      <td>+cNeJzsTp3</td>\n",
              "    </tr>\n",
              "    <tr>\n",
              "      <th>4</th>\n",
              "      <td>Voice</td>\n",
              "      <td>14</td>\n",
              "      <td>2012-05-06 23:06:29.0</td>\n",
              "      <td>1</td>\n",
              "      <td>966ba4656e38e62</td>\n",
              "      <td>02aa736ee555d5c</td>\n",
              "      <td>19e2e</td>\n",
              "      <td>19e2e</td>\n",
              "      <td>051KhYDCpv</td>\n",
              "      <td>051KhYDCpv</td>\n",
              "    </tr>\n",
              "  </tbody>\n",
              "</table>\n",
              "</div>"
            ],
            "text/plain": [
              "  PRODUTC  VALUE               DATETIME  ... COUNTRY_B     CELL_ID     SITE_ID\n",
              "0   Voice      0  2012-05-06 23:04:37.0  ...     19e2e  /TJNe+Mmtu  /TJNe+Mmtu\n",
              "1     sms      0  2012-05-06 23:05:25.0  ...     19e2e  /+cKZKIp41  /+cKZKIp41\n",
              "2     sms     25  2012-05-06 23:05:41.0  ...     19e2e  /u0FSD+ahi  /u0FSD+ahi\n",
              "3   Voice     56  2012-05-06 23:05:42.0  ...     19e2e  +cNeJzsTp3  +cNeJzsTp3\n",
              "4   Voice     14  2012-05-06 23:06:29.0  ...     19e2e  051KhYDCpv  051KhYDCpv\n",
              "\n",
              "[5 rows x 10 columns]"
            ]
          },
          "metadata": {
            "tags": []
          },
          "execution_count": 7
        }
      ]
    },
    {
      "cell_type": "code",
      "metadata": {
        "id": "1lVhOCSAaiJs",
        "colab": {
          "base_uri": "https://localhost:8080/",
          "height": 394
        },
        "outputId": "45ef0ce8-bffc-42a1-9dc2-7c870e6deab2"
      },
      "source": [
        "# CDR 20120508 [http://bit.ly/TelecomDataset2]\n",
        "# we download the data and upload it in the notebook\n",
        "\n",
        "df5=pd.read_csv('Telcom_dataset2.csv')\n",
        "df5.head(5)"
      ],
      "execution_count": null,
      "outputs": [
        {
          "output_type": "execute_result",
          "data": {
            "text/html": [
              "<div>\n",
              "<style scoped>\n",
              "    .dataframe tbody tr th:only-of-type {\n",
              "        vertical-align: middle;\n",
              "    }\n",
              "\n",
              "    .dataframe tbody tr th {\n",
              "        vertical-align: top;\n",
              "    }\n",
              "\n",
              "    .dataframe thead th {\n",
              "        text-align: right;\n",
              "    }\n",
              "</style>\n",
              "<table border=\"1\" class=\"dataframe\">\n",
              "  <thead>\n",
              "    <tr style=\"text-align: right;\">\n",
              "      <th></th>\n",
              "      <th>PRODUCT</th>\n",
              "      <th>VALUE</th>\n",
              "      <th>DATE_TIME</th>\n",
              "      <th>CELL_ON_SITE</th>\n",
              "      <th>DW_A_NUMBER</th>\n",
              "      <th>DW_B_NUMBER</th>\n",
              "      <th>COUNTRY_A</th>\n",
              "      <th>COUNTRY_B</th>\n",
              "      <th>CELL_ID</th>\n",
              "      <th>SITE_ID</th>\n",
              "    </tr>\n",
              "  </thead>\n",
              "  <tbody>\n",
              "    <tr>\n",
              "      <th>0</th>\n",
              "      <td>sms</td>\n",
              "      <td>0</td>\n",
              "      <td>2012-05-07 23:02:06.0</td>\n",
              "      <td>2</td>\n",
              "      <td>32255675c3b6fe3</td>\n",
              "      <td>1aa7ae01386e9fb</td>\n",
              "      <td>19e2e</td>\n",
              "      <td>19e2e</td>\n",
              "      <td>+854AcBQT2</td>\n",
              "      <td>+854AcBQT2</td>\n",
              "    </tr>\n",
              "    <tr>\n",
              "      <th>1</th>\n",
              "      <td>Voice</td>\n",
              "      <td>0</td>\n",
              "      <td>2012-05-07 23:03:44.0</td>\n",
              "      <td>1</td>\n",
              "      <td>ff16d6ac74c1c64</td>\n",
              "      <td>87d87309c15a8c9</td>\n",
              "      <td>19e2e</td>\n",
              "      <td>19e2e</td>\n",
              "      <td>+854AcBQT2</td>\n",
              "      <td>+854AcBQT2</td>\n",
              "    </tr>\n",
              "    <tr>\n",
              "      <th>2</th>\n",
              "      <td>sms</td>\n",
              "      <td>0</td>\n",
              "      <td>2012-05-07 23:04:06.0</td>\n",
              "      <td>0</td>\n",
              "      <td>98d9f2fb5ff624b</td>\n",
              "      <td>93343ba6e41af95</td>\n",
              "      <td>19e2e</td>\n",
              "      <td>19e2e</td>\n",
              "      <td>+laSrk7g6q</td>\n",
              "      <td>+laSrk7g6q</td>\n",
              "    </tr>\n",
              "    <tr>\n",
              "      <th>3</th>\n",
              "      <td>Voice</td>\n",
              "      <td>37</td>\n",
              "      <td>2012-05-07 23:04:48.0</td>\n",
              "      <td>1</td>\n",
              "      <td>3f9c8a33ec7be1f</td>\n",
              "      <td>7d05a38f89c49d8</td>\n",
              "      <td>19e2e</td>\n",
              "      <td>19e2e</td>\n",
              "      <td>/xvRrCVKoQ</td>\n",
              "      <td>/xvRrCVKoQ</td>\n",
              "    </tr>\n",
              "    <tr>\n",
              "      <th>4</th>\n",
              "      <td>sms</td>\n",
              "      <td>25</td>\n",
              "      <td>2012-05-07 23:04:58.0</td>\n",
              "      <td>1</td>\n",
              "      <td>7bcccc03adf3864</td>\n",
              "      <td>56a5d5430d2fa86</td>\n",
              "      <td>19e2e</td>\n",
              "      <td>19e2e</td>\n",
              "      <td>+bO+qkSonO</td>\n",
              "      <td>+bO+qkSonO</td>\n",
              "    </tr>\n",
              "  </tbody>\n",
              "</table>\n",
              "</div>"
            ],
            "text/plain": [
              "  PRODUCT  VALUE              DATE_TIME  ... COUNTRY_B     CELL_ID     SITE_ID\n",
              "0     sms      0  2012-05-07 23:02:06.0  ...     19e2e  +854AcBQT2  +854AcBQT2\n",
              "1   Voice      0  2012-05-07 23:03:44.0  ...     19e2e  +854AcBQT2  +854AcBQT2\n",
              "2     sms      0  2012-05-07 23:04:06.0  ...     19e2e  +laSrk7g6q  +laSrk7g6q\n",
              "3   Voice     37  2012-05-07 23:04:48.0  ...     19e2e  /xvRrCVKoQ  /xvRrCVKoQ\n",
              "4     sms     25  2012-05-07 23:04:58.0  ...     19e2e  +bO+qkSonO  +bO+qkSonO\n",
              "\n",
              "[5 rows x 10 columns]"
            ]
          },
          "metadata": {
            "tags": []
          },
          "execution_count": 9
        }
      ]
    },
    {
      "cell_type": "code",
      "metadata": {
        "id": "CSND1oYdao7N",
        "colab": {
          "base_uri": "https://localhost:8080/",
          "height": 394
        },
        "outputId": "013f6ad9-61cc-48d0-c202-f9ee21a8100c"
      },
      "source": [
        "# CDR 20120509 [http://bit.ly/TelecomDataset3]\n",
        "# we download the data and upload it in the notebook\n",
        "\n",
        "df6=pd.read_csv('Telcom_dataset3.csv')\n",
        "df6.head(5)\n"
      ],
      "execution_count": null,
      "outputs": [
        {
          "output_type": "execute_result",
          "data": {
            "text/html": [
              "<div>\n",
              "<style scoped>\n",
              "    .dataframe tbody tr th:only-of-type {\n",
              "        vertical-align: middle;\n",
              "    }\n",
              "\n",
              "    .dataframe tbody tr th {\n",
              "        vertical-align: top;\n",
              "    }\n",
              "\n",
              "    .dataframe thead th {\n",
              "        text-align: right;\n",
              "    }\n",
              "</style>\n",
              "<table border=\"1\" class=\"dataframe\">\n",
              "  <thead>\n",
              "    <tr style=\"text-align: right;\">\n",
              "      <th></th>\n",
              "      <th>PRODUCT</th>\n",
              "      <th>VALUE</th>\n",
              "      <th>DATE_TIME</th>\n",
              "      <th>CELL_ON_SITE</th>\n",
              "      <th>DW_A_NUMBER_INT</th>\n",
              "      <th>DW_B_NUMBER_INT</th>\n",
              "      <th>COUNTRY_A</th>\n",
              "      <th>COUNTRY_B</th>\n",
              "      <th>CELLID</th>\n",
              "      <th>SIET_ID</th>\n",
              "    </tr>\n",
              "  </thead>\n",
              "  <tbody>\n",
              "    <tr>\n",
              "      <th>0</th>\n",
              "      <td>Voice</td>\n",
              "      <td>61</td>\n",
              "      <td>2012-05-08 23:01:28.0</td>\n",
              "      <td>2</td>\n",
              "      <td>966f68353622feb</td>\n",
              "      <td>ffd53a3bb2db6f1</td>\n",
              "      <td>19e2e</td>\n",
              "      <td>19e2e</td>\n",
              "      <td>+38u2u/rfx</td>\n",
              "      <td>+38u2u/rfx</td>\n",
              "    </tr>\n",
              "    <tr>\n",
              "      <th>1</th>\n",
              "      <td>sms</td>\n",
              "      <td>0</td>\n",
              "      <td>2012-05-08 23:01:31.0</td>\n",
              "      <td>1</td>\n",
              "      <td>a0a597384c612d7</td>\n",
              "      <td>cf3b218f1dde792</td>\n",
              "      <td>19e2e</td>\n",
              "      <td>19e2e</td>\n",
              "      <td>+Fs4mTvdKx</td>\n",
              "      <td>+Fs4mTvdKx</td>\n",
              "    </tr>\n",
              "    <tr>\n",
              "      <th>2</th>\n",
              "      <td>Voice</td>\n",
              "      <td>10</td>\n",
              "      <td>2012-05-08 23:02:59.0</td>\n",
              "      <td>1</td>\n",
              "      <td>5441a9a58c97132</td>\n",
              "      <td>52f8b299515b9b7</td>\n",
              "      <td>19e2e</td>\n",
              "      <td>19e2e</td>\n",
              "      <td>+ZaaZozy/+</td>\n",
              "      <td>+ZaaZozy/+</td>\n",
              "    </tr>\n",
              "    <tr>\n",
              "      <th>3</th>\n",
              "      <td>sms</td>\n",
              "      <td>0</td>\n",
              "      <td>2012-05-08 23:03:04.0</td>\n",
              "      <td>0</td>\n",
              "      <td>8ab8b9ed6989f61</td>\n",
              "      <td>e09e736e46c5c3d</td>\n",
              "      <td>19e2e</td>\n",
              "      <td>19e2e</td>\n",
              "      <td>+cNeJzsTp3</td>\n",
              "      <td>+cNeJzsTp3</td>\n",
              "    </tr>\n",
              "    <tr>\n",
              "      <th>4</th>\n",
              "      <td>Voice</td>\n",
              "      <td>22</td>\n",
              "      <td>2012-05-08 23:03:16.0</td>\n",
              "      <td>4</td>\n",
              "      <td>52662a62b199334</td>\n",
              "      <td>2186273faab4602</td>\n",
              "      <td>19e2e</td>\n",
              "      <td>19e2e</td>\n",
              "      <td>/eeMklgyJA</td>\n",
              "      <td>/eeMklgyJA</td>\n",
              "    </tr>\n",
              "  </tbody>\n",
              "</table>\n",
              "</div>"
            ],
            "text/plain": [
              "  PRODUCT  VALUE              DATE_TIME  ... COUNTRY_B      CELLID     SIET_ID\n",
              "0   Voice     61  2012-05-08 23:01:28.0  ...     19e2e  +38u2u/rfx  +38u2u/rfx\n",
              "1     sms      0  2012-05-08 23:01:31.0  ...     19e2e  +Fs4mTvdKx  +Fs4mTvdKx\n",
              "2   Voice     10  2012-05-08 23:02:59.0  ...     19e2e  +ZaaZozy/+  +ZaaZozy/+\n",
              "3     sms      0  2012-05-08 23:03:04.0  ...     19e2e  +cNeJzsTp3  +cNeJzsTp3\n",
              "4   Voice     22  2012-05-08 23:03:16.0  ...     19e2e  /eeMklgyJA  /eeMklgyJA\n",
              "\n",
              "[5 rows x 10 columns]"
            ]
          },
          "metadata": {
            "tags": []
          },
          "execution_count": 10
        }
      ]
    },
    {
      "cell_type": "markdown",
      "metadata": {
        "id": "-AdBJ-rvatqn"
      },
      "source": [
        "3.0 Data Exprolation"
      ]
    },
    {
      "cell_type": "markdown",
      "metadata": {
        "id": "NPOAvEGoa6ld"
      },
      "source": [
        "3.1 Cells Geo"
      ]
    },
    {
      "cell_type": "code",
      "metadata": {
        "id": "e1oEJ636bCbs",
        "colab": {
          "base_uri": "https://localhost:8080/",
          "height": 230
        },
        "outputId": "d84f7fa4-2d30-41fb-93ca-37e4310b1781"
      },
      "source": [
        "df2.head(3)"
      ],
      "execution_count": null,
      "outputs": [
        {
          "output_type": "execute_result",
          "data": {
            "text/html": [
              "<div>\n",
              "<style scoped>\n",
              "    .dataframe tbody tr th:only-of-type {\n",
              "        vertical-align: middle;\n",
              "    }\n",
              "\n",
              "    .dataframe tbody tr th {\n",
              "        vertical-align: top;\n",
              "    }\n",
              "\n",
              "    .dataframe thead th {\n",
              "        text-align: right;\n",
              "    }\n",
              "</style>\n",
              "<table border=\"1\" class=\"dataframe\">\n",
              "  <thead>\n",
              "    <tr style=\"text-align: right;\">\n",
              "      <th></th>\n",
              "      <th>Unnamed: 0</th>\n",
              "      <th>VILLES</th>\n",
              "      <th>STATUS</th>\n",
              "      <th>LOCALISATION</th>\n",
              "      <th>DECOUPZONE</th>\n",
              "      <th>ZONENAME</th>\n",
              "      <th>LONGITUDE</th>\n",
              "      <th>LATITUDE</th>\n",
              "      <th>REGION</th>\n",
              "      <th>AREA</th>\n",
              "      <th>CELL_ID</th>\n",
              "      <th>SITE_CODE</th>\n",
              "    </tr>\n",
              "  </thead>\n",
              "  <tbody>\n",
              "    <tr>\n",
              "      <th>0</th>\n",
              "      <td>0</td>\n",
              "      <td>ADJAME</td>\n",
              "      <td>In Service</td>\n",
              "      <td>ABIDJAN</td>\n",
              "      <td>\"Abidjan_EST</td>\n",
              "      <td>AGBANNEW</td>\n",
              "      <td>-4.000667</td>\n",
              "      <td>5.368194</td>\n",
              "      <td>LAGUNE</td>\n",
              "      <td>NaN</td>\n",
              "      <td>fbb2e75af3</td>\n",
              "      <td>0bb492ef17</td>\n",
              "    </tr>\n",
              "    <tr>\n",
              "      <th>1</th>\n",
              "      <td>1</td>\n",
              "      <td>ADJAME</td>\n",
              "      <td>In Service</td>\n",
              "      <td>ABIDJAN</td>\n",
              "      <td>\"Abidjan_EST</td>\n",
              "      <td>AGBANNEW</td>\n",
              "      <td>-4.000667</td>\n",
              "      <td>5.368194</td>\n",
              "      <td>LAGUNE</td>\n",
              "      <td>NaN</td>\n",
              "      <td>1502501d78</td>\n",
              "      <td>0bb492ef17</td>\n",
              "    </tr>\n",
              "    <tr>\n",
              "      <th>2</th>\n",
              "      <td>2</td>\n",
              "      <td>ADJAME</td>\n",
              "      <td>In Service</td>\n",
              "      <td>ABIDJAN</td>\n",
              "      <td>\"Abidjan_EST</td>\n",
              "      <td>AGBANNEW</td>\n",
              "      <td>-4.000667</td>\n",
              "      <td>5.368194</td>\n",
              "      <td>LAGUNE</td>\n",
              "      <td>NaN</td>\n",
              "      <td>0c2e182a0c</td>\n",
              "      <td>0bb492ef17</td>\n",
              "    </tr>\n",
              "  </tbody>\n",
              "</table>\n",
              "</div>"
            ],
            "text/plain": [
              "   Unnamed: 0  VILLES      STATUS  ... AREA     CELL_ID   SITE_CODE\n",
              "0           0  ADJAME  In Service  ...  NaN  fbb2e75af3  0bb492ef17\n",
              "1           1  ADJAME  In Service  ...  NaN  1502501d78  0bb492ef17\n",
              "2           2  ADJAME  In Service  ...  NaN  0c2e182a0c  0bb492ef17\n",
              "\n",
              "[3 rows x 12 columns]"
            ]
          },
          "metadata": {
            "tags": []
          },
          "execution_count": 11
        }
      ]
    },
    {
      "cell_type": "code",
      "metadata": {
        "id": "iTYePiyNbMQ4"
      },
      "source": [
        "#changing the column name SITE_CODE to SITE_ID and deleting the former column\n",
        "df2['SITE_ID']=df2['SITE_CODE']\n",
        "del df2['SITE_CODE']\n"
      ],
      "execution_count": null,
      "outputs": []
    },
    {
      "cell_type": "code",
      "metadata": {
        "id": "mWEFyIMsbRaU",
        "colab": {
          "base_uri": "https://localhost:8080/"
        },
        "outputId": "4804933b-a732-4ae3-f3cb-1cc7785b1534"
      },
      "source": [
        "# This counts the number of unique cities\n",
        "cities = list(df2['VILLES'].unique())\n",
        "len(cities)\n"
      ],
      "execution_count": null,
      "outputs": [
        {
          "output_type": "execute_result",
          "data": {
            "text/plain": [
              "504"
            ]
          },
          "metadata": {
            "tags": []
          },
          "execution_count": 13
        }
      ]
    },
    {
      "cell_type": "code",
      "metadata": {
        "id": "lxb1SJyGbWe6",
        "colab": {
          "base_uri": "https://localhost:8080/"
        },
        "outputId": "96274c58-1e24-436d-e200-c90914dea78a"
      },
      "source": [
        "# This code gives the status of whether in service or not\n",
        "\n",
        "Status = df2[\"STATUS\"].value_counts(normalize=True)\n",
        "print(Status)"
      ],
      "execution_count": null,
      "outputs": [
        {
          "output_type": "stream",
          "text": [
            "In Service    1.0\n",
            "Name: STATUS, dtype: float64\n"
          ],
          "name": "stdout"
        }
      ]
    },
    {
      "cell_type": "code",
      "metadata": {
        "id": "X_SJUG7gbiT6",
        "colab": {
          "base_uri": "https://localhost:8080/"
        },
        "outputId": "1b33be00-6e22-4602-c580-1cd13ed3433f"
      },
      "source": [
        "#This code returns whether the locality was in Abidjan or not\n",
        "Localize = df2[\"LOCALISATION\"].value_counts(normalize=True)\n",
        "print(Localize)"
      ],
      "execution_count": null,
      "outputs": [
        {
          "output_type": "stream",
          "text": [
            "INTERIEUR    0.58002\n",
            "ABIDJAN      0.41998\n",
            "Name: LOCALISATION, dtype: float64\n"
          ],
          "name": "stdout"
        }
      ]
    },
    {
      "cell_type": "code",
      "metadata": {
        "id": "kKp_CxzvbkfV",
        "colab": {
          "base_uri": "https://localhost:8080/"
        },
        "outputId": "71daf03a-03f1-4968-95c1-55b5cc4f6c30"
      },
      "source": [
        "#This code returns the unique Geographical zones and percentage of each Geographical zone\n",
        "Geographical_zone = df2[\"DECOUPZONE\"].value_counts(normalize=True)\n",
        "print(Geographical_zone)\n",
        "\n",
        "# We print the number of Geographical zones\n",
        "print(len(list(df2['DECOUPZONE'].unique())))"
      ],
      "execution_count": null,
      "outputs": [
        {
          "output_type": "stream",
          "text": [
            "Grand-OUEST        0.132864\n",
            "Grand-NORD         0.130347\n",
            "Grand-SUD          0.122043\n",
            "Grand-EST          0.112733\n",
            "Abidjan_EST        0.102416\n",
            "Abidjan_CENTRE     0.092602\n",
            "Abidjan_OUEST      0.090840\n",
            "SUD-OUEST          0.077755\n",
            "Abidjan_NORD       0.077252\n",
            "Abidjan_SUD        0.053347\n",
            "\"Abidjan_EST       0.002013\n",
            "\"Abidjan_NORD      0.002013\n",
            "Gd-ABIDJAN         0.001510\n",
            "0                  0.001510\n",
            "\"Abidjan_CENTRE    0.000755\n",
            "Name: DECOUPZONE, dtype: float64\n",
            "15\n"
          ],
          "name": "stdout"
        }
      ]
    },
    {
      "cell_type": "code",
      "metadata": {
        "id": "gGofw6sobtwv",
        "colab": {
          "base_uri": "https://localhost:8080/"
        },
        "outputId": "f65f8aef-a7ab-4c7b-e6fb-b2cf7df45d30"
      },
      "source": [
        "#This code returns the unique zones and percentage of each zone\n",
        "Name_of_zone = df2[\"ZONENAME\"].value_counts(normalize=True)\n",
        "print(Name_of_zone)\n",
        "\n",
        "# We print the number of zones\n",
        "print(len(list(df2['ZONENAME'].unique())))\n"
      ],
      "execution_count": null,
      "outputs": [
        {
          "output_type": "stream",
          "text": [
            "ZONE D - Grand-OUEST       0.132812\n",
            "ZONE A - Grand-NORD        0.129788\n",
            "ZONE B - Grand-SUD         0.119204\n",
            "ZONE C - Grand-EST         0.110131\n",
            "ZONE B - Abidjan_EST       0.099546\n",
            "ZONE A - Abidjan_CENTRE    0.092994\n",
            "ZONE C - Abidjan_OUEST     0.089466\n",
            "ZONE E - SUD-OUEST         0.077873\n",
            "ZONE E - Abidjan_NORD      0.076613\n",
            "ZONE D - Abidjan_SUD       0.052167\n",
            "ZONE B - Grand-EST         0.002268\n",
            "ZONE D - Abidjan_EST       0.001512\n",
            "ZONE B - Abidjan_CENTRE    0.001260\n",
            "NPONON                     0.001008\n",
            "OKAHOTEL                   0.001008\n",
            "ZONE B - Grand-NORD        0.000756\n",
            "ZONE B - Abidjan_Nord      0.000756\n",
            "ZONE A - Abidjan_OUEST     0.000756\n",
            "AGBANNEW                   0.000756\n",
            "ZONE C - Abidjan_EST       0.000756\n",
            "PALMABINGERVILLE           0.000756\n",
            "ZONE A - Grand-SUD         0.000756\n",
            "ZONE B - Abidjan_OUEST     0.000756\n",
            "ZONE B - Abidjan-EST       0.000756\n",
            "ZONE A - Grand-EST         0.000756\n",
            "ZONE C - Abidjan_SUD       0.000756\n",
            "ZONE D - Grand-SUD         0.000756\n",
            "ASSINIE\"                   0.000756\n",
            "TIAMA                      0.000756\n",
            "WILLIAMSVILLE2             0.000504\n",
            "ZONE C - Grand-SUD         0.000504\n",
            "ZONE B - Abidjan_SUD       0.000504\n",
            "KRIKOREA\"                  0.000252\n",
            "Name: ZONENAME, dtype: float64\n",
            "34\n"
          ],
          "name": "stdout"
        }
      ]
    },
    {
      "cell_type": "code",
      "metadata": {
        "id": "B5Z90WkZb0y5",
        "colab": {
          "base_uri": "https://localhost:8080/"
        },
        "outputId": "e1591255-9d6d-4425-ae23-9869d675c015"
      },
      "source": [
        "#This code returns the unique regions and percentage of each region\n",
        "Region = df2[\"REGION\"].value_counts(normalize=True)\n",
        "print(Region)\n",
        "\n",
        "# We print the number of regions\n",
        "print(len(list(df2['REGION'].unique())))\n"
      ],
      "execution_count": null,
      "outputs": [
        {
          "output_type": "stream",
          "text": [
            "LAGUNE               0.465526\n",
            "BAS SASSANDRA        0.062406\n",
            "HAUT SASSANDRA       0.045294\n",
            "LACS                 0.040262\n",
            "VALLEE DU BANDAMA    0.039758\n",
            "SAVANE               0.038752\n",
            "SUD BANDAMA          0.032209\n",
            "NZI COMOE            0.028183\n",
            "FROMAGER             0.027680\n",
            "ZANZAN               0.027177\n",
            "AGNEBY               0.025918\n",
            "18 MONTAGNES         0.025667\n",
            "MOYEN CAVALLY        0.025667\n",
            "WORODOUGOU           0.024912\n",
            "SUD COMOE            0.022144\n",
            "MOYEN COMOE          0.021137\n",
            "MARAHOUE             0.019628\n",
            "DENGUELE             0.017111\n",
            "BAFING               0.010569\n",
            "Name: REGION, dtype: float64\n",
            "19\n"
          ],
          "name": "stdout"
        }
      ]
    },
    {
      "cell_type": "code",
      "metadata": {
        "id": "dejYcEB9b7_O",
        "colab": {
          "base_uri": "https://localhost:8080/"
        },
        "outputId": "ef188fae-3763-4c8c-9d7a-dd79b2e3c404"
      },
      "source": [
        "#This code returns the unique cells and percentage of each cell\n",
        "#Cells = df2[\"CELL_ID\"].value_counts(normalize=True)\n",
        "#print(Cells)\n",
        "\n",
        "# We print the number of cells\n",
        "#print(len(list(df2['CELL_ID'].unique())))\n",
        "\n",
        "cells = df2['CELL_ID'].groupby(df2['VILLES'])\n",
        "f=cells.count()\n",
        "f.sort_values(ascending=False)\n"
      ],
      "execution_count": null,
      "outputs": [
        {
          "output_type": "execute_result",
          "data": {
            "text/plain": [
              "VILLES\n",
              "COCODY         354\n",
              "YOPOUGON       295\n",
              "ABOBO          255\n",
              "MARCORY        141\n",
              "TREICHVILLE    132\n",
              "              ... \n",
              "LOUGBONON        3\n",
              "MEMNI            2\n",
              "KOTOULA          2\n",
              "OUANGOLO         1\n",
              "DANANON          1\n",
              "Name: CELL_ID, Length: 504, dtype: int64"
            ]
          },
          "metadata": {
            "tags": []
          },
          "execution_count": 19
        }
      ]
    },
    {
      "cell_type": "code",
      "metadata": {
        "id": "iVScJae2cDn6",
        "colab": {
          "base_uri": "https://localhost:8080/"
        },
        "outputId": "454875b2-4c3d-4912-b36b-88477399961f"
      },
      "source": [
        "#This code returns the unique sites and percentage of each site\n",
        "Site = df2[\"SITE_ID\"].value_counts(normalize=True)\n",
        "print(Site)\n",
        "\n",
        "# We print the number of cells\n",
        "print(len(list(df2['SITE_ID'].unique())))"
      ],
      "execution_count": null,
      "outputs": [
        {
          "output_type": "stream",
          "text": [
            "20387d4292    0.010569\n",
            "c15166ba4d    0.002265\n",
            "928a59b635    0.002265\n",
            "5c565fbfb1    0.002265\n",
            "4d3501719c    0.002013\n",
            "                ...   \n",
            "17329b9161    0.000252\n",
            "c661ab6aef    0.000252\n",
            "133150e2f4    0.000252\n",
            "d638af4028    0.000252\n",
            "65135293ca    0.000252\n",
            "Name: SITE_ID, Length: 1029, dtype: float64\n",
            "1029\n"
          ],
          "name": "stdout"
        }
      ]
    },
    {
      "cell_type": "code",
      "metadata": {
        "id": "fp6kfJX3cQcD",
        "colab": {
          "base_uri": "https://localhost:8080/"
        },
        "outputId": "ae36a3b7-c6ed-42d7-e96d-66834b418dc0"
      },
      "source": [
        "#Geog_Abidan = df2[['DECOUPZONE','LOCALISATION']]\n",
        "#print(Geog_Abidan)\n",
        "Geog_Abidan = df2['DECOUPZONE'].groupby(df2['LOCALISATION'])\n",
        "Geog_Abidan.count()"
      ],
      "execution_count": null,
      "outputs": [
        {
          "output_type": "execute_result",
          "data": {
            "text/plain": [
              "LOCALISATION\n",
              "ABIDJAN      1669\n",
              "INTERIEUR    2305\n",
              "Name: DECOUPZONE, dtype: int64"
            ]
          },
          "metadata": {
            "tags": []
          },
          "execution_count": 21
        }
      ]
    },
    {
      "cell_type": "code",
      "metadata": {
        "id": "dDELgrudcWwJ",
        "colab": {
          "base_uri": "https://localhost:8080/"
        },
        "outputId": "30f421da-48cb-4f8a-f7a8-4abd90f5ba5e"
      },
      "source": [
        "#Grouping localisation with region\n",
        "Loc_Region = df2['LOCALISATION'].groupby(df2['REGION'])\n",
        "Loc_Region.count()"
      ],
      "execution_count": null,
      "outputs": [
        {
          "output_type": "execute_result",
          "data": {
            "text/plain": [
              "REGION\n",
              "18 MONTAGNES          102\n",
              "AGNEBY                103\n",
              "BAFING                 42\n",
              "BAS SASSANDRA         248\n",
              "DENGUELE               68\n",
              "FROMAGER              110\n",
              "HAUT SASSANDRA        180\n",
              "LACS                  160\n",
              "LAGUNE               1850\n",
              "MARAHOUE               78\n",
              "MOYEN CAVALLY         102\n",
              "MOYEN COMOE            84\n",
              "NZI COMOE             112\n",
              "SAVANE                154\n",
              "SUD BANDAMA           128\n",
              "SUD COMOE              88\n",
              "VALLEE DU BANDAMA     158\n",
              "WORODOUGOU             99\n",
              "ZANZAN                108\n",
              "Name: LOCALISATION, dtype: int64"
            ]
          },
          "metadata": {
            "tags": []
          },
          "execution_count": 22
        }
      ]
    },
    {
      "cell_type": "code",
      "metadata": {
        "id": "O2-X4ER1cnfk",
        "colab": {
          "base_uri": "https://localhost:8080/"
        },
        "outputId": "dbc8e617-6238-4f8f-f484-65e190ebe302"
      },
      "source": [
        "#Grouping cells with region\n",
        "cell_Region = df2['CELL_ID'].groupby(df2['REGION'])\n",
        "cell_Region.count()"
      ],
      "execution_count": null,
      "outputs": [
        {
          "output_type": "execute_result",
          "data": {
            "text/plain": [
              "REGION\n",
              "18 MONTAGNES          102\n",
              "AGNEBY                103\n",
              "BAFING                 42\n",
              "BAS SASSANDRA         248\n",
              "DENGUELE               68\n",
              "FROMAGER              110\n",
              "HAUT SASSANDRA        180\n",
              "LACS                  160\n",
              "LAGUNE               1850\n",
              "MARAHOUE               78\n",
              "MOYEN CAVALLY         102\n",
              "MOYEN COMOE            84\n",
              "NZI COMOE             112\n",
              "SAVANE                154\n",
              "SUD BANDAMA           128\n",
              "SUD COMOE              88\n",
              "VALLEE DU BANDAMA     158\n",
              "WORODOUGOU             99\n",
              "ZANZAN                108\n",
              "Name: CELL_ID, dtype: int64"
            ]
          },
          "metadata": {
            "tags": []
          },
          "execution_count": 23
        }
      ]
    },
    {
      "cell_type": "code",
      "metadata": {
        "id": "mj-mEFaXcpdT",
        "colab": {
          "base_uri": "https://localhost:8080/"
        },
        "outputId": "3784f82f-2032-4db2-d6cb-182ef50cde01"
      },
      "source": [
        "#Grouping sites with region\n",
        "Site_Region = (df2['SITE_ID']).groupby(df2['REGION']).unique()\n",
        "Site_Region"
      ],
      "execution_count": null,
      "outputs": [
        {
          "output_type": "execute_result",
          "data": {
            "text/plain": [
              "REGION\n",
              "18 MONTAGNES         [b9af583eac, 73652571a6, b7a160c985, 7957b0fb8...\n",
              "AGNEBY               [c99c8fb224, 20387d4292, 84da272d13, e43742c52...\n",
              "BAFING               [23acdcab2e, e8ab114fa9, 26c9f73a63, 547436da2...\n",
              "BAS SASSANDRA        [ee63d0afe1, 4299ae845e, 50d116f73d, 1445989c8...\n",
              "DENGUELE             [0e037c2d0c, 4ca5c45fac, 65758d2aae, de3cfcbca...\n",
              "FROMAGER             [874a4d7efd, e293f755da, 1c90b51bb4, c6bd18d18...\n",
              "HAUT SASSANDRA       [260dbfedc5, 06c4cb622d, 553ec95a14, 78a34ee53...\n",
              "LACS                 [a65daaf5d3, 4b55d01457, 7c7a7a71b5, e8c387b61...\n",
              "LAGUNE               [0bb492ef17, 56306cc7ca, c1ccd3443b, 17899e217...\n",
              "MARAHOUE             [aa59cc7ced, 071cfaad35, 520b0637ca, 111335946...\n",
              "MOYEN CAVALLY        [f4b59db47a, d9f94e58fa, 63192d48dc, 74f02009e...\n",
              "MOYEN COMOE          [6e87d6cb59, aa2d7103fc, 00197a4f5f, 547385b9d...\n",
              "NZI COMOE            [5f6100dbe1, 1e36fcb515, 3772ce7256, 16f265f4a...\n",
              "SAVANE               [a048d79c3e, aeed65e7ce, f8c04693e1, 530e8cef0...\n",
              "SUD BANDAMA          [32e88e3bb2, f5cfe0ed01, c7f65a4fc4, 90660365c...\n",
              "SUD COMOE            [8a1e6ce31f, 38c5c1de07, 20387d4292, ac3b6998a...\n",
              "VALLEE DU BANDAMA    [952ba02486, 52688ee7aa, 04bc287a75, 322c2ac5d...\n",
              "WORODOUGOU           [9fd440bab4, ae4ba240c4, 1009d0bd35, eaad35729...\n",
              "ZANZAN               [4757ea44db, 541c234a2f, b43fe6601a, 0c062a665...\n",
              "Name: SITE_ID, dtype: object"
            ]
          },
          "metadata": {
            "tags": []
          },
          "execution_count": 24
        }
      ]
    },
    {
      "cell_type": "markdown",
      "metadata": {
        "id": "7tYp2fZac2gT"
      },
      "source": [
        "3.2 Telcom Datasets"
      ]
    },
    {
      "cell_type": "code",
      "metadata": {
        "id": "eEjltmBKc4ND"
      },
      "source": [
        "#Changing column name and deleting the previous column for dataframes df4, df5 and df6\n",
        "df5['DW_A_NUMBER_INT'] = df5['DW_A_NUMBER']\n",
        "del df5['DW_A_NUMBER']\n",
        "df5['DW_B_NUMBER_INT']=df5['DW_B_NUMBER']\n",
        "del df5['DW_B_NUMBER']\n",
        "df4['PRODUCT']=df4['PRODUTC']\n",
        "del df4['PRODUTC']\n",
        "df4['DATE_TIME']=df4['DATETIME']\n",
        "del df4['DATETIME']\n",
        "df6['SITE_ID']=df6['SIET_ID']\n",
        "del df6['SIET_ID']\n",
        "df6['CELL_ID']=df6['CELLID']\n",
        "del df6['CELLID']\n"
      ],
      "execution_count": null,
      "outputs": []
    },
    {
      "cell_type": "code",
      "metadata": {
        "id": "OZx0ArEPdEy2"
      },
      "source": [
        "#converting the DATETIME which is in string format to Date format\n",
        "\n",
        "df4['new_date'] = pd.to_datetime(df4['DATE_TIME'])\n",
        "df5['new_date'] = pd.to_datetime(df5['DATE_TIME'])\n",
        "df6['new_date'] = pd.to_datetime(df6['DATE_TIME'])\n"
      ],
      "execution_count": null,
      "outputs": []
    },
    {
      "cell_type": "code",
      "metadata": {
        "id": "diLYohyjdF1H",
        "colab": {
          "base_uri": "https://localhost:8080/",
          "height": 264
        },
        "outputId": "eb27bf23-e86a-47fd-8407-87a8e39cc137"
      },
      "source": [
        "# We first view the dataframe of Telcom Dataset for May 07, 2012\n",
        "df4.head(3)"
      ],
      "execution_count": null,
      "outputs": [
        {
          "output_type": "execute_result",
          "data": {
            "text/html": [
              "<div>\n",
              "<style scoped>\n",
              "    .dataframe tbody tr th:only-of-type {\n",
              "        vertical-align: middle;\n",
              "    }\n",
              "\n",
              "    .dataframe tbody tr th {\n",
              "        vertical-align: top;\n",
              "    }\n",
              "\n",
              "    .dataframe thead th {\n",
              "        text-align: right;\n",
              "    }\n",
              "</style>\n",
              "<table border=\"1\" class=\"dataframe\">\n",
              "  <thead>\n",
              "    <tr style=\"text-align: right;\">\n",
              "      <th></th>\n",
              "      <th>VALUE</th>\n",
              "      <th>CELL_ON_SITE</th>\n",
              "      <th>DW_A_NUMBER_INT</th>\n",
              "      <th>DW_B_NUMBER_INT</th>\n",
              "      <th>COUNTRY_A</th>\n",
              "      <th>COUNTRY_B</th>\n",
              "      <th>CELL_ID</th>\n",
              "      <th>SITE_ID</th>\n",
              "      <th>PRODUCT</th>\n",
              "      <th>DATE_TIME</th>\n",
              "      <th>new_date</th>\n",
              "    </tr>\n",
              "  </thead>\n",
              "  <tbody>\n",
              "    <tr>\n",
              "      <th>0</th>\n",
              "      <td>0</td>\n",
              "      <td>1</td>\n",
              "      <td>49fae048b547780</td>\n",
              "      <td>1a49f8b0ded9de6</td>\n",
              "      <td>19e2e</td>\n",
              "      <td>19e2e</td>\n",
              "      <td>/TJNe+Mmtu</td>\n",
              "      <td>/TJNe+Mmtu</td>\n",
              "      <td>Voice</td>\n",
              "      <td>2012-05-06 23:04:37.0</td>\n",
              "      <td>2012-05-06 23:04:37</td>\n",
              "    </tr>\n",
              "    <tr>\n",
              "      <th>1</th>\n",
              "      <td>0</td>\n",
              "      <td>0</td>\n",
              "      <td>7a54a6eaee19e65</td>\n",
              "      <td>93343ba6e41af95</td>\n",
              "      <td>19e2e</td>\n",
              "      <td>19e2e</td>\n",
              "      <td>/+cKZKIp41</td>\n",
              "      <td>/+cKZKIp41</td>\n",
              "      <td>sms</td>\n",
              "      <td>2012-05-06 23:05:25.0</td>\n",
              "      <td>2012-05-06 23:05:25</td>\n",
              "    </tr>\n",
              "    <tr>\n",
              "      <th>2</th>\n",
              "      <td>25</td>\n",
              "      <td>0</td>\n",
              "      <td>6008887b0207d82</td>\n",
              "      <td>7aacc9709ce0a20</td>\n",
              "      <td>19e2e</td>\n",
              "      <td>19e2e</td>\n",
              "      <td>/u0FSD+ahi</td>\n",
              "      <td>/u0FSD+ahi</td>\n",
              "      <td>sms</td>\n",
              "      <td>2012-05-06 23:05:41.0</td>\n",
              "      <td>2012-05-06 23:05:41</td>\n",
              "    </tr>\n",
              "  </tbody>\n",
              "</table>\n",
              "</div>"
            ],
            "text/plain": [
              "   VALUE CELL_ON_SITE  ...              DATE_TIME            new_date\n",
              "0      0            1  ...  2012-05-06 23:04:37.0 2012-05-06 23:04:37\n",
              "1      0            0  ...  2012-05-06 23:05:25.0 2012-05-06 23:05:25\n",
              "2     25            0  ...  2012-05-06 23:05:41.0 2012-05-06 23:05:41\n",
              "\n",
              "[3 rows x 11 columns]"
            ]
          },
          "metadata": {
            "tags": []
          },
          "execution_count": 27
        }
      ]
    },
    {
      "cell_type": "code",
      "metadata": {
        "id": "1i_Dz6U2dMk1",
        "colab": {
          "base_uri": "https://localhost:8080/",
          "height": 264
        },
        "outputId": "428d1708-96e8-4286-dc4e-e12cc7c0c6e0"
      },
      "source": [
        "#df4_5 = pd.concat(df4, df5)\n",
        "#df4_5.head(3)\n",
        "frames = [df4,df5,df6]\n",
        "df456 = pd.concat(frames)\n",
        "\n",
        "df456.head(3)"
      ],
      "execution_count": null,
      "outputs": [
        {
          "output_type": "execute_result",
          "data": {
            "text/html": [
              "<div>\n",
              "<style scoped>\n",
              "    .dataframe tbody tr th:only-of-type {\n",
              "        vertical-align: middle;\n",
              "    }\n",
              "\n",
              "    .dataframe tbody tr th {\n",
              "        vertical-align: top;\n",
              "    }\n",
              "\n",
              "    .dataframe thead th {\n",
              "        text-align: right;\n",
              "    }\n",
              "</style>\n",
              "<table border=\"1\" class=\"dataframe\">\n",
              "  <thead>\n",
              "    <tr style=\"text-align: right;\">\n",
              "      <th></th>\n",
              "      <th>VALUE</th>\n",
              "      <th>CELL_ON_SITE</th>\n",
              "      <th>DW_A_NUMBER_INT</th>\n",
              "      <th>DW_B_NUMBER_INT</th>\n",
              "      <th>COUNTRY_A</th>\n",
              "      <th>COUNTRY_B</th>\n",
              "      <th>CELL_ID</th>\n",
              "      <th>SITE_ID</th>\n",
              "      <th>PRODUCT</th>\n",
              "      <th>DATE_TIME</th>\n",
              "      <th>new_date</th>\n",
              "    </tr>\n",
              "  </thead>\n",
              "  <tbody>\n",
              "    <tr>\n",
              "      <th>0</th>\n",
              "      <td>0</td>\n",
              "      <td>1</td>\n",
              "      <td>49fae048b547780</td>\n",
              "      <td>1a49f8b0ded9de6</td>\n",
              "      <td>19e2e</td>\n",
              "      <td>19e2e</td>\n",
              "      <td>/TJNe+Mmtu</td>\n",
              "      <td>/TJNe+Mmtu</td>\n",
              "      <td>Voice</td>\n",
              "      <td>2012-05-06 23:04:37.0</td>\n",
              "      <td>2012-05-06 23:04:37</td>\n",
              "    </tr>\n",
              "    <tr>\n",
              "      <th>1</th>\n",
              "      <td>0</td>\n",
              "      <td>0</td>\n",
              "      <td>7a54a6eaee19e65</td>\n",
              "      <td>93343ba6e41af95</td>\n",
              "      <td>19e2e</td>\n",
              "      <td>19e2e</td>\n",
              "      <td>/+cKZKIp41</td>\n",
              "      <td>/+cKZKIp41</td>\n",
              "      <td>sms</td>\n",
              "      <td>2012-05-06 23:05:25.0</td>\n",
              "      <td>2012-05-06 23:05:25</td>\n",
              "    </tr>\n",
              "    <tr>\n",
              "      <th>2</th>\n",
              "      <td>25</td>\n",
              "      <td>0</td>\n",
              "      <td>6008887b0207d82</td>\n",
              "      <td>7aacc9709ce0a20</td>\n",
              "      <td>19e2e</td>\n",
              "      <td>19e2e</td>\n",
              "      <td>/u0FSD+ahi</td>\n",
              "      <td>/u0FSD+ahi</td>\n",
              "      <td>sms</td>\n",
              "      <td>2012-05-06 23:05:41.0</td>\n",
              "      <td>2012-05-06 23:05:41</td>\n",
              "    </tr>\n",
              "  </tbody>\n",
              "</table>\n",
              "</div>"
            ],
            "text/plain": [
              "   VALUE CELL_ON_SITE  ...              DATE_TIME            new_date\n",
              "0      0            1  ...  2012-05-06 23:04:37.0 2012-05-06 23:04:37\n",
              "1      0            0  ...  2012-05-06 23:05:25.0 2012-05-06 23:05:25\n",
              "2     25            0  ...  2012-05-06 23:05:41.0 2012-05-06 23:05:41\n",
              "\n",
              "[3 rows x 11 columns]"
            ]
          },
          "metadata": {
            "tags": []
          },
          "execution_count": 28
        }
      ]
    },
    {
      "cell_type": "code",
      "metadata": {
        "id": "RPAS6QdDdTk4",
        "colab": {
          "base_uri": "https://localhost:8080/"
        },
        "outputId": "ce30b74e-f3d5-4afc-e19f-1952455a96aa"
      },
      "source": [
        "# finding the usage value for each product for 20120507\n",
        "service_value_4 = df4['VALUE'].groupby(df4['PRODUCT'])\n",
        "print(service_value_4.sum())\n",
        "print(service_value_4.mean())"
      ],
      "execution_count": null,
      "outputs": [
        {
          "output_type": "stream",
          "text": [
            "PRODUCT\n",
            "Voice    108869\n",
            "data       7032\n",
            "sms       13473\n",
            "Name: VALUE, dtype: int64\n",
            "PRODUCT\n",
            "Voice    49.062190\n",
            "data      8.713755\n",
            "sms       6.821772\n",
            "Name: VALUE, dtype: float64\n"
          ],
          "name": "stdout"
        }
      ]
    },
    {
      "cell_type": "code",
      "metadata": {
        "id": "QEw4tRyidZel"
      },
      "source": [
        "    import time\n",
        "    from time import mktime\n",
        "    from datetime import datetime"
      ],
      "execution_count": null,
      "outputs": []
    },
    {
      "cell_type": "code",
      "metadata": {
        "id": "0RQhiQf7deef"
      },
      "source": [
        "#Splitting the date column into day and time columns\n",
        "df4['new_date_'] = [d.date() for d in df4['new_date']] # day\n",
        "df4['new_time'] = [d.time() for d in df4['new_date']]  # time\n",
        "df5['new_date_'] = [d.date() for d in df5['new_date']] # day\n",
        "df5['new_time'] = [d.time() for d in df5['new_date']]  # time\n",
        "df6['new_date_'] = [d.date() for d in df6['new_date']] # day\n",
        "df6['new_time'] = [d.time() for d in df6['new_date']]  # time\n"
      ],
      "execution_count": null,
      "outputs": []
    },
    {
      "cell_type": "code",
      "metadata": {
        "id": "60zNoPUSdkjJ",
        "colab": {
          "base_uri": "https://localhost:8080/"
        },
        "outputId": "7498337d-c3e8-4d9e-cc9c-8285161a0dd6"
      },
      "source": [
        "# finding the usage value for each product for 20120508\n",
        "service_value_5 = df5['VALUE'].groupby(df5['PRODUCT'])\n",
        "print(service_value_5.sum())\n",
        "print(service_value_5.mean())"
      ],
      "execution_count": null,
      "outputs": [
        {
          "output_type": "stream",
          "text": [
            "PRODUCT\n",
            "Voice    103486\n",
            "data       5500\n",
            "sms       12713\n",
            "Name: VALUE, dtype: int64\n",
            "PRODUCT\n",
            "Voice    54.294858\n",
            "data      7.180157\n",
            "sms       5.458566\n",
            "Name: VALUE, dtype: float64\n"
          ],
          "name": "stdout"
        }
      ]
    },
    {
      "cell_type": "code",
      "metadata": {
        "id": "n-MG-Z87dsd-",
        "colab": {
          "base_uri": "https://localhost:8080/"
        },
        "outputId": "960d89e2-ec22-4042-fb76-be55780682cb"
      },
      "source": [
        "# finding the usage value for each product for 20120509\n",
        "service_value_6 = df6['VALUE'].groupby(df6['PRODUCT'])\n",
        "print(service_value_6.sum())\n",
        "print(service_value_6.mean())"
      ],
      "execution_count": null,
      "outputs": [
        {
          "output_type": "stream",
          "text": [
            "PRODUCT\n",
            "Voice    100238\n",
            "data       4755\n",
            "sms       27241\n",
            "Name: VALUE, dtype: int64\n",
            "PRODUCT\n",
            "Voice    65.047372\n",
            "data      6.861472\n",
            "sms       9.844958\n",
            "Name: VALUE, dtype: float64\n"
          ],
          "name": "stdout"
        }
      ]
    },
    {
      "cell_type": "code",
      "metadata": {
        "id": "tPxWRPbtdy5j",
        "colab": {
          "base_uri": "https://localhost:8080/"
        },
        "outputId": "2066e0ae-54e7-4f09-df0a-3b7d4c3db9f0"
      },
      "source": [
        "# finding the usage value for each product for 20120507, 20120508 &20120509\n",
        "service_value_456 = df456['VALUE'].groupby(df456['PRODUCT'])\n",
        "print(service_value_456.sum())\n",
        "print(service_value_456.mean())"
      ],
      "execution_count": null,
      "outputs": [
        {
          "output_type": "stream",
          "text": [
            "PRODUCT\n",
            "Voice    312593\n",
            "data      17287\n",
            "sms       53427\n",
            "Name: VALUE, dtype: int64\n",
            "PRODUCT\n",
            "Voice    55.169961\n",
            "data      7.628861\n",
            "sms       7.555791\n",
            "Name: VALUE, dtype: float64\n"
          ],
          "name": "stdout"
        }
      ]
    },
    {
      "cell_type": "code",
      "metadata": {
        "id": "F0fkSR8Fd9ah",
        "colab": {
          "base_uri": "https://localhost:8080/"
        },
        "outputId": "0f413055-9d96-4813-d15e-8b3146f359fb"
      },
      "source": [
        "#Getting the usage value by zone\n",
        "value_456 = df456['VALUE'].groupby(df2['DECOUPZONE'])\n",
        "a=value_456.sum()\n",
        "b=value_456.mean()\n",
        "a.sort_values(ascending=False)\n"
      ],
      "execution_count": null,
      "outputs": [
        {
          "output_type": "execute_result",
          "data": {
            "text/plain": [
              "DECOUPZONE\n",
              "Grand-SUD          44780\n",
              "Abidjan_EST        42936\n",
              "Grand-OUEST        42200\n",
              "Abidjan_OUEST      35357\n",
              "Grand-NORD         33132\n",
              "Abidjan_CENTRE     29547\n",
              "Grand-EST          26955\n",
              "SUD-OUEST          22515\n",
              "Abidjan_NORD       16053\n",
              "Abidjan_SUD        14845\n",
              "Gd-ABIDJAN           511\n",
              "0                    330\n",
              "\"Abidjan_EST         279\n",
              "\"Abidjan_NORD         71\n",
              "\"Abidjan_CENTRE       21\n",
              "Name: VALUE, dtype: int64"
            ]
          },
          "metadata": {
            "tags": []
          },
          "execution_count": 35
        }
      ]
    },
    {
      "cell_type": "code",
      "metadata": {
        "id": "LSO5l5yud-8o",
        "colab": {
          "base_uri": "https://localhost:8080/"
        },
        "outputId": "982a534f-1b6c-42a0-e2af-2f6c0138a15f"
      },
      "source": [
        "#Getting the usage value by cities\n",
        "\n",
        "value_city = df456['VALUE'].groupby(df2['VILLES'])\n",
        "c=value_city.sum()\n",
        "print(c.sort_values(ascending=False))\n"
      ],
      "execution_count": null,
      "outputs": [
        {
          "output_type": "stream",
          "text": [
            "VILLES\n",
            "COCODY         39378\n",
            "YOPOUGON       31848\n",
            "ABOBO          13482\n",
            "HIRE           13217\n",
            "TREICHVILLE    11766\n",
            "               ...  \n",
            "GBELEBAN           0\n",
            "ASSIKOI            0\n",
            "BOROTOU            0\n",
            "BANANKORO          0\n",
            "SIENSOBA           0\n",
            "Name: VALUE, Length: 504, dtype: int64\n"
          ],
          "name": "stdout"
        }
      ]
    },
    {
      "cell_type": "code",
      "metadata": {
        "id": "z7Q5W6DOeF9H",
        "colab": {
          "base_uri": "https://localhost:8080/"
        },
        "outputId": "009aad5b-3808-4a13-80e4-49971e91561d"
      },
      "source": [
        "#ranking cities by time usage\n",
        "\n",
        "day_456 = df456['new_date'].groupby(df2['VILLES'])\n",
        "d=day_456.count()\n",
        "\n",
        "d.sort_values(ascending=False)"
      ],
      "execution_count": null,
      "outputs": [
        {
          "output_type": "execute_result",
          "data": {
            "text/plain": [
              "VILLES\n",
              "COCODY         1062\n",
              "YOPOUGON        885\n",
              "ABOBO           765\n",
              "MARCORY         423\n",
              "TREICHVILLE     396\n",
              "               ... \n",
              "LOUGBONON         9\n",
              "MEMNI             6\n",
              "KOTOULA           6\n",
              "OUANGOLO          3\n",
              "DANANON           3\n",
              "Name: new_date, Length: 504, dtype: int64"
            ]
          },
          "metadata": {
            "tags": []
          },
          "execution_count": 37
        }
      ]
    },
    {
      "cell_type": "code",
      "metadata": {
        "id": "PP_NuhtkeMPN",
        "colab": {
          "base_uri": "https://localhost:8080/",
          "height": 264
        },
        "outputId": "12bf59cf-673f-498e-b7e5-a9b1d78c6c31"
      },
      "source": [
        "#Crearing a new column new_time that has time only\n",
        "\n",
        "df456['new_time'] = pd.to_datetime(df456['new_date'],format= '%H' ).dt.time\n",
        "df456.head(3)"
      ],
      "execution_count": null,
      "outputs": [
        {
          "output_type": "execute_result",
          "data": {
            "text/html": [
              "<div>\n",
              "<style scoped>\n",
              "    .dataframe tbody tr th:only-of-type {\n",
              "        vertical-align: middle;\n",
              "    }\n",
              "\n",
              "    .dataframe tbody tr th {\n",
              "        vertical-align: top;\n",
              "    }\n",
              "\n",
              "    .dataframe thead th {\n",
              "        text-align: right;\n",
              "    }\n",
              "</style>\n",
              "<table border=\"1\" class=\"dataframe\">\n",
              "  <thead>\n",
              "    <tr style=\"text-align: right;\">\n",
              "      <th></th>\n",
              "      <th>VALUE</th>\n",
              "      <th>CELL_ON_SITE</th>\n",
              "      <th>DW_A_NUMBER_INT</th>\n",
              "      <th>DW_B_NUMBER_INT</th>\n",
              "      <th>COUNTRY_A</th>\n",
              "      <th>COUNTRY_B</th>\n",
              "      <th>CELL_ID</th>\n",
              "      <th>SITE_ID</th>\n",
              "      <th>PRODUCT</th>\n",
              "      <th>DATE_TIME</th>\n",
              "      <th>new_date</th>\n",
              "      <th>new_time</th>\n",
              "    </tr>\n",
              "  </thead>\n",
              "  <tbody>\n",
              "    <tr>\n",
              "      <th>0</th>\n",
              "      <td>0</td>\n",
              "      <td>1</td>\n",
              "      <td>49fae048b547780</td>\n",
              "      <td>1a49f8b0ded9de6</td>\n",
              "      <td>19e2e</td>\n",
              "      <td>19e2e</td>\n",
              "      <td>/TJNe+Mmtu</td>\n",
              "      <td>/TJNe+Mmtu</td>\n",
              "      <td>Voice</td>\n",
              "      <td>2012-05-06 23:04:37.0</td>\n",
              "      <td>2012-05-06 23:04:37</td>\n",
              "      <td>23:04:37</td>\n",
              "    </tr>\n",
              "    <tr>\n",
              "      <th>1</th>\n",
              "      <td>0</td>\n",
              "      <td>0</td>\n",
              "      <td>7a54a6eaee19e65</td>\n",
              "      <td>93343ba6e41af95</td>\n",
              "      <td>19e2e</td>\n",
              "      <td>19e2e</td>\n",
              "      <td>/+cKZKIp41</td>\n",
              "      <td>/+cKZKIp41</td>\n",
              "      <td>sms</td>\n",
              "      <td>2012-05-06 23:05:25.0</td>\n",
              "      <td>2012-05-06 23:05:25</td>\n",
              "      <td>23:05:25</td>\n",
              "    </tr>\n",
              "    <tr>\n",
              "      <th>2</th>\n",
              "      <td>25</td>\n",
              "      <td>0</td>\n",
              "      <td>6008887b0207d82</td>\n",
              "      <td>7aacc9709ce0a20</td>\n",
              "      <td>19e2e</td>\n",
              "      <td>19e2e</td>\n",
              "      <td>/u0FSD+ahi</td>\n",
              "      <td>/u0FSD+ahi</td>\n",
              "      <td>sms</td>\n",
              "      <td>2012-05-06 23:05:41.0</td>\n",
              "      <td>2012-05-06 23:05:41</td>\n",
              "      <td>23:05:41</td>\n",
              "    </tr>\n",
              "  </tbody>\n",
              "</table>\n",
              "</div>"
            ],
            "text/plain": [
              "   VALUE CELL_ON_SITE  ...            new_date  new_time\n",
              "0      0            1  ... 2012-05-06 23:04:37  23:04:37\n",
              "1      0            0  ... 2012-05-06 23:05:25  23:05:25\n",
              "2     25            0  ... 2012-05-06 23:05:41  23:05:41\n",
              "\n",
              "[3 rows x 12 columns]"
            ]
          },
          "metadata": {
            "tags": []
          },
          "execution_count": 38
        }
      ]
    }
  ]
}